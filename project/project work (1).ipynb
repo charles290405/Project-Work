{
 "cells": [
  {
   "cell_type": "code",
   "execution_count": null,
   "metadata": {},
   "outputs": [],
   "source": [
    "from random import randint"
   ]
  },
  {
   "cell_type": "code",
   "execution_count": null,
   "metadata": {},
   "outputs": [],
   "source": [
    "class SnakesAndLadders:\n",
    "    SNAKES = {\n",
    "        27: 8,\n",
    "        34: 7,\n",
    "        29: 3,\n",
    "        69: 31,\n",
    "        72: 36,\n",
    "        77: 46,\n",
    "        80: 41,\n",
    "        96: 48,\n",
    "        98: 79,\n",
    "    }\n",
    "\n",
    "    LADDERS = {\n",
    "        4: 16,\n",
    "        6: 25,\n",
    "        12: 49,\n",
    "        20: 40,\n",
    "        38: 88,\n",
    "        58: 62,\n",
    "        71: 93,\n",
    "        78: 84,\n",
    "        86: 95,\n",
    "    }\n",
    "    \n",
    "    LAST_TILE = 100\n",
    "    \n",
    "    def __init__(self, n_players, verbose = False):\n",
    "        self.n_players = n_players\n",
    "        self.verbose = verbose\n",
    "        self.players = [0] * n_players\n",
    "        self.turn = 0\n",
    "        self.winner = None # can use to determine if game is over
    "    }\n",
    "    \n",
    "    def die_roll(self):
    "   return randint(1,6)
    "   def move_player(self, player_i):
    "    prev_pos = self.players[player_i]
    "   new_pos = prev_pos + self.die_roll()
    "   }\n",
    "   \n",
    "   if new_pos >= self.LAST_TILE: # winner! game over
    "        self.winner = player_i
    "       new_pos = self.LAST_TILE
    "    elif new_pos in self.SNAKES:
    "        print("bitten by snake")
    "        new_pos = self.SNAKES[new_pos]
    "    elif new_pos in self.LADDERS:
    "        print("found a ladder")
    "        new_pos = self.LADDERS[new_pos]
     "   }\n",
    "    \n",
    "    self.players[player_i] = new_pos
    "    }\n",
    "    \n",
    "    def move_players(self):
    "   for player_i in range(self.n_players):
    "       self.move_player(player_i)
    "        if self.winner is not None: # done with game
    "            break\n",
    "                \n",
    "    def play_game(self):\n",
    "        while self.winner is None:\n",
    "            self.turn += 1\n",
    "            self.move_players()\n",
    "            if self.verbose:\n",
    "                self.print_turn()\n",
    "        return f\"Player #{self.winner + 1} Wins!\"\n",
    "    \n",
    "    def print_turn(self):\n",
    "        print(f\"Turn {self.turn}:\")\n",
    "        \n",
    "        # sort players by position\n",
    "        pos_and_player_i = [(pos, player_i) for player_i, pos in enumerate(self.players)]\n",
    "        pos_and_player_i.sort(reverse=True)\n",
    "        \n",
    "        # print players with position\n",
    "        player_pos_str = ' | '.join([f\"({player_i + 1}) {pos}\" for pos, player_i in pos_and_player_i])\n",
    "        print(player_pos_str)"
   ]
  },
  {
   "cell_type": "code",
   "execution_count": 111,
   "metadata": {},
   "outputs": [],
   "source": [
    "game = SnakesAndLadders(n_players = 100_000)"
   ]
  },
  {
   "cell_type": "code",
   "execution_count": 112,
   "metadata": {},
   "outputs": [
    {
     "data": {
      "text/plain": [
      ]
     },
     "execution_count": 112,
     "metadata": {},
     "output_type": "execute_result"
    }
   ],
   "source": [
    "game.play_game()"
   ]
  },
  {
   "cell_type": "markdown",
   "metadata": {},
   "source": [
    "# Stats"
   ]
  },
  {
   "cell_type": "code",
   "execution_count": 108,
   "metadata": {},
   "outputs": [],
   "source": [
    "import seaborn as sns"
   ]
  },
  {
   "cell_type": "code",
   "execution_count": 113,
   "metadata": {},
   "outputs": [
   
     "metadata": {
      "needs_background": "light"
     },
     "output_type": "display_data"
    }
   ],
   "source": [
    "sns.histplot(game.players);"
   ]
  },
 
  {
   "cell_type": "code",
   "execution_count": null,
   "metadata": {},
   "outputs": [],
   "source": []
  }
 ],
 "metadata": {
  "kernelspec": {
   "display_name": "Python 3",
   "language": "python",
   "name": "python3"
  },
  "language_info": {
   "codemirror_mode": {
    "name": "ipython",
    "version": 3
   },
   "file_extension": ".py",
   "mimetype": "text/x-python",
   "name": "python",
   "nbconvert_exporter": "python",
   "pygments_lexer": "ipython3",
   "version": "3.8.5"
  }
 },
 "nbformat": 4,
 "nbformat_minor": 2
}
